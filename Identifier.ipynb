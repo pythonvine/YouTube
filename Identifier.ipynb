{
 "cells": [
  {
   "cell_type": "markdown",
   "id": "d4fb2831",
   "metadata": {},
   "source": [
    "# Q. Can we define the identifier starting with special symbol ?"
   ]
  },
  {
   "cell_type": "markdown",
   "id": "6eab9190",
   "metadata": {},
   "source": [
    "1. True"
   ]
  },
  {
   "cell_type": "markdown",
   "id": "ce5243a8",
   "metadata": {},
   "source": [
    "2. False"
   ]
  },
  {
   "cell_type": "markdown",
   "id": "adeff284",
   "metadata": {},
   "source": [
    "# Python\n",
    "Python is a high-level, interpreted, interactive and object-oriented scripting language. Python is designed to be highly readable. \n"
   ]
  },
  {
   "cell_type": "markdown",
   "id": "e98cf1ec",
   "metadata": {},
   "source": [
    "Following are important characteristics of Python Programming −\n",
    "\n",
    "1. It supports functional and structured programming methods as well as OOP.\n",
    "\n",
    "2. It can be used as a scripting language or can be compiled to byte-code for building large applications.\n",
    "\n",
    "3. It provides very high-level dynamic data types and supports dynamic type checking.\n",
    "\n",
    "4. It supports automatic garbage collection.\n",
    "\n",
    "5. It can be easily integrated with C, C++, COM, ActiveX, CORBA, and Java."
   ]
  },
  {
   "cell_type": "markdown",
   "id": "144d9cc5",
   "metadata": {},
   "source": [
    "# Identifier\n",
    "An identifier is a name given to entities like class, functions, variables, etc. It helps to differentiate one entity from another."
   ]
  },
  {
   "cell_type": "markdown",
   "id": "d06cde73",
   "metadata": {},
   "source": [
    "**Rules for writing identifiers"
   ]
  },
  {
   "cell_type": "markdown",
   "id": "5592363e",
   "metadata": {},
   "source": [
    "# 1.\n",
    "Identifiers can be a combination of letters in lowercase (a to z) or uppercase (A to Z) or digits (0 to 9) or a    n underscore _. Names like myClass, var_1 and print_this_to_screen, all are valid example.\n",
    "An identifier can be of any length.\n"
   ]
  },
  {
   "cell_type": "markdown",
   "id": "a6cd8fca",
   "metadata": {},
   "source": [
    "# 2.\n",
    "An identifier cannot start with a digit. 1variable is invalid, but variable1 is a valid name.\n"
   ]
  },
  {
   "cell_type": "markdown",
   "id": "488ed89d",
   "metadata": {},
   "source": [
    "# 3.\n",
    "Keywords cannot be used as identifiers. "
   ]
  },
  {
   "cell_type": "markdown",
   "id": "9fdc76e6",
   "metadata": {},
   "source": [
    "# 4.\n",
    "We cannot use special symbols like !, @, #, $, % etc. in our identifier. "
   ]
  },
  {
   "cell_type": "code",
   "execution_count": null,
   "id": "81a1c96d",
   "metadata": {},
   "outputs": [],
   "source": []
  }
 ],
 "metadata": {
  "kernelspec": {
   "display_name": "Python 3",
   "language": "python",
   "name": "python3"
  },
  "language_info": {
   "codemirror_mode": {
    "name": "ipython",
    "version": 3
   },
   "file_extension": ".py",
   "mimetype": "text/x-python",
   "name": "python",
   "nbconvert_exporter": "python",
   "pygments_lexer": "ipython3",
   "version": "3.9.1"
  }
 },
 "nbformat": 4,
 "nbformat_minor": 5
}
